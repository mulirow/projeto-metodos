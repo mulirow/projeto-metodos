{
 "cells": [
  {
   "cell_type": "markdown",
   "metadata": {},
   "source": [
    "## Descrição"
   ]
  },
  {
   "cell_type": "markdown",
   "metadata": {},
   "source": [
    "O principal objetivo do projeto é discutir sobre a pandemia da COVID-19 em um cenário que remonta tanto uma população cada vez mais vacinada como uma taxa de mortes cada vez menor. Embora seja um cenário esperançoso, ainda há a necessidade de manter as normas sanitárias ativas frente a uma população que encontra-se exausta no que se trata de precisar seguir normas."
   ]
  },
  {
   "cell_type": "markdown",
   "metadata": {},
   "source": [
    "Procuraremos saber o quanto essa exaustão afeta a predição dos próximos meses dada a existência da vacina, e até quando e como precisamos manter o distanciamento social para que não haja um prolongamento desnecessário, averiguando se há condições desse resultado coexistir com o estresse social sem que tenhamos novas ondas derivadas do abandono das regras de distanciamento."
   ]
  },
  {
   "cell_type": "markdown",
   "metadata": {},
   "source": [
    "## Referências (referenciadas no mapa mental)\n",
    "[1] [Vacinômetro](https://www.worldometers.info/coronavirus/country/brazil/)</br>\n",
    "[2] [Planilha Consolidada de Doses Aplicadas Categorizada por Grupo de Pessoas e Municípios do estado de Pernambuco](https://docs.google.com/spreadsheets/d/1UiHd1j7JVYpSPtn139KXIggvIOinihQv/edit#gid=1859490906).  Extraído de [Transparência da Vacinação – COVID-19](https://www.lai.pe.gov.br/ses/transparencia-da-vacinacao-covid-19/)</br>\n",
    "[3] [Incubation Period and Other Epidemiological Characteristics of 2019 Novel Coronavirus Infections with Right Truncation: A Statistical Analysis of Publicly Available Case Data](https://pubmed.ncbi.nlm.nih.gov/32079150/)</br>\n",
    "[4] [Estimating the Asymptomatic Ratio of 2019 Novel Coronavirus onboard the Princess Cruises Ship, 2020](https://www.medrxiv.org/content/10.1101/2020.02.20.20025866v1.full.pdf)</br>\n",
    "[5] [IBGE: Pernambuco](https://www.ibge.gov.br/cidades-e-estados/pe.html)"
   ]
  }
 ],
 "metadata": {
  "language_info": {
   "name": "python"
  },
  "orig_nbformat": 4
 },
 "nbformat": 4,
 "nbformat_minor": 2
}
