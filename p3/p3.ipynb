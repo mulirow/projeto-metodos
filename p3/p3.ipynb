{
 "cells": [
  {
   "cell_type": "markdown",
   "metadata": {},
   "source": [
    "## Introdução e Objetivos\n",
    "\n",
    "A pandemia da Covid-19 teve seu início ao final de 2019, com um surto causado pelo Sars-Cov-2 na província de Wuhan, na China. Pouco mais de dois anos depois, ainda estamos lidando com esse cenário caótico através de mudanças no nosso cotidiano, como o uso de máscaras, distanciamento social e higienização constante de mãos e do ambiente, além de termos que nos adaptar ao surgimento de novas variantes enquanto corremos no avanço das vacinas.</br>\n",
    "Atualmente, a variante mais importante é a Ômicron, que, apesar de caracterizada por uma baixa taxa de mortalidade, possui uma alta taxa de infecção, gerando uma grande quantia de infectados, e, por consequência, uma quantidade de mortes que não pode ser ignorada. Estimar o comportamento de um vírus é uma forma de prevenção e possibilita evitar uma tragédia ainda maior, ao mesmo tempo que nos trás passos para um retorno gradiente às nossas vidas normais.</br>\n",
    "Neste projeto, tentaremos explicar a situação atual da Covid-19 em Pernambuco, bem como prever o estado da pandemia ao final do mês de julho. Para isso, usaremos conhecimentos de estatística e cálculo para estabelecer um modelo epidemiológico razoável, utilizando de bibliotecas da linguagem Python (NumPy, SciPy) para resolver ODEs e assim conseguir previsões, representadas graficamente com auxílio da Matplotlib. Por consequência, será uma importante prática de modelagem matemática para um problema do mundo real."
   ]
  },
  {
   "cell_type": "markdown",
   "metadata": {},
   "source": [
    "## Metodologia\n",
    "\n",
    "Número de casos (01/02/2021): 9286241</br>\n",
    "Número de mortos: 225143\n",
    "\n",
    "Data was extracted considering the first day analyzed, that is, 1st February 2021 (01/02/2021). </br>\n",
    "Where $IFR$ is the Infection Fatality Ratio, calculated from data in [1] using the formula in [2]. </br>\n",
    "The mean incubation period $\\tau$, mean time for recover $\\tau_r$ and mean time for death $\\tau_d$ were obtained from [3]. </br>\n",
    "The initial infected count was extracted from [4], considering that the actively infected population for that day was the amount of confirmed cases until then subtracted by death and recovery counts. Considering a small enough superposition, this data is taken as sufficiently accurate. "
   ]
  },
  {
   "cell_type": "code",
   "execution_count": 50,
   "metadata": {},
   "outputs": [],
   "source": [
    "import numpy as np\n",
    "from scipy.integrate import odeint\n",
    "import matplotlib.pyplot as plt\n",
    "\n",
    "plt.style.use('ggplot')"
   ]
  },
  {
   "cell_type": "code",
   "execution_count": 51,
   "metadata": {},
   "outputs": [],
   "source": [
    "# Total population, N.\n",
    "N = 9674793\n",
    "\n",
    "# Initial number of infected, recovered, exposed and dead individuals (01/02/2021)\n",
    "I0, R0, E0, D0, V0 = 21452, 0, 0, 0, 0\n",
    "\n",
    "# Everyone else, S0, is susceptible to infection initially\n",
    "S0 = N - I0 - R0 - E0 - D0 - V0\n",
    "\n",
    "# Contact rate for infected and exposed individuals\n",
    "beta_I, beta_E = 0.2, 0.1\n",
    "\n",
    "# Infection fatality ratio\n",
    "ifr = 0.0242\n",
    "\n",
    "# Average time for incubation, recovery and death\n",
    "tau = 5\n",
    "tau_r, tau_d = 14, tau + 15\n",
    "\n",
    "# Mean recovery and death rates\n",
    "gamma = (1 - ifr) / tau_r\n",
    "mu =  ifr / tau_d\n",
    "\n",
    "# A grid of time points (in days) for the first time period (01/02/2021 - 31/01/2022)\n",
    "t = np.linspace(0, 364, 365)\n",
    "\n",
    "# A grid of time points (in days) for the second time period (01/02/2022 - 31/07/2022)\n",
    "t2 = np.linspace(365, 365+180, 181)"
   ]
  },
  {
   "cell_type": "code",
   "execution_count": null,
   "metadata": {},
   "outputs": [],
   "source": [
    "# Vaccination rate\n",
    "# Dia inicial: 18/01/2021\n",
    "def vaccination(t):\n",
    "    if t <= 100: # estimação de quando 100% da população vai ser vacinada\n",
    "        return 0\n",
    "    return 1"
   ]
  },
  {
   "cell_type": "code",
   "execution_count": 52,
   "metadata": {},
   "outputs": [],
   "source": [
    "def deriv(y, t):\n",
    "    S, I, R, E, D, V = y\n",
    "    dSdt = -beta_I*S*I/N - beta_E*S*E/N - vaccination(t) * S\n",
    "    dEdt = beta_I*S*I/N + beta_E*S*E/N - E/tau\n",
    "    dIdt = E/tau - (gamma + mu)*I\n",
    "    dRdt = gamma * I\n",
    "    dDdt = mu * I\n",
    "    dVdt = vaccination(t) * S\n",
    "    return dSdt, dIdt, dRdt, dEdt, dDdt, dVdt"
   ]
  },
  {
   "cell_type": "code",
   "execution_count": 53,
   "metadata": {},
   "outputs": [],
   "source": [
    "# Initial conditions vector\n",
    "y0 = S0, I0, R0, E0, D0, V0\n",
    "\n",
    "# Integrate the SIR equations over the time grid, t.\n",
    "ret = odeint(deriv, y0, t)\n",
    "S, I, R, E, D, V = ret.T"
   ]
  },
  {
   "cell_type": "code",
   "execution_count": 54,
   "metadata": {},
   "outputs": [
    {
     "data": {
      "image/png": "[encoded data removed]",
      "text/plain": [
       "<Figure size 432x288 with 1 Axes>"
      ]
     },
     "metadata": {},
     "output_type": "display_data"
    }
   ],
   "source": [
    "plt.plot(t, S/N, 'b', label='Susceptible')\n",
    "plt.plot(t, I/N, 'r', label='Infected')\n",
    "plt.plot(t, R/N, 'g', label='Recovered with immunity')\n",
    "plt.plot(t, E/N, label='Exposed')\n",
    "plt.plot(t, D/N, label='Dead')\n",
    "plt.xlabel('Time/days')\n",
    "plt.ylabel('Number (1000s)')\n",
    "plt.legend()\n",
    "plt.show()"
   ]
  },
  {
   "cell_type": "markdown",
   "metadata": {},
   "source": [
    "## Referências\n",
    "[1] [Vacinômetro - Brasil](https://www.worldometers.info/coronavirus/country/brazil/)</br>\n",
    "[2] [WHO - Estimating mortality from COVID-19](https://www.who.int/news-room/commentaries/detail/estimating-mortality-from-covid-19) </br>\n",
    "[3] [Incubation Period and Other Epidemiological Characteristics of 2019 Novel Coronavirus Infections with Right Truncation: A Statistical Analysis of Publicly Available Case Data](https://pubmed.ncbi.nlm.nih.gov/32079150/) </br>\n",
    "[4] [Painel de casos de doença pelo coronavírus 2019 (COVID-19) em Pernambuco, no Brasil e no Mundo.](https://dados.seplag.pe.gov.br/apps/corona.html#geral) </br>\n",
    "[5] []() </br>\n",
    "[6] []() </br>\n"
   ]
  }
 ],
 "metadata": {
  "interpreter": {
   "hash": "e7370f93d1d0cde622a1f8e1c04877d8463912d04d973331ad4851f04de6915a"
  },
  "kernelspec": {
   "display_name": "Python 3.10.2 64-bit",
   "language": "python",
   "name": "python3"
  },
  "language_info": {
   "codemirror_mode": {
    "name": "ipython",
    "version": 3
   },
   "file_extension": ".py",
   "mimetype": "text/x-python",
   "name": "python",
   "nbconvert_exporter": "python",
   "pygments_lexer": "ipython3",
   "version": "3.6.9"
  },
  "orig_nbformat": 4
 },
 "nbformat": 4,
 "nbformat_minor": 2
}
